{
 "cells": [
  {
   "cell_type": "markdown",
   "metadata": {},
   "source": [
    "![gannt](https://raw.githubusercontent.com/danielsun888/danielsun888.github.io/main/_posts/gannt.png \"timeline picture\")\n"
   ]
  },
  {
   "cell_type": "code",
   "execution_count": null,
   "metadata": {},
   "outputs": [],
   "source": [
    "https://raw.githubusercontent.com/danielsun888/danielsun888.github.io/main/pictures/gannt.png"
   ]
  },
  {
   "cell_type": "code",
   "execution_count": null,
   "metadata": {},
   "outputs": [],
   "source": [
    "https://github.com/danielsun888/danielsun888.github.io/raw/main/pictures/gannt.png\n",
    "\n",
    "https://raw.githubusercontent.com/danielsun888/danielsun888.github.io/main/_posts/gannt.png"
   ]
  }
 ],
 "metadata": {
  "kernelspec": {
   "display_name": "Python 3.8.8 ('venv': venv)",
   "language": "python",
   "name": "python3"
  },
  "language_info": {
   "name": "python",
   "version": "3.8.8"
  },
  "orig_nbformat": 4,
  "vscode": {
   "interpreter": {
    "hash": "bc801652c5d8c82debdbd7e7d6d8892fec504db73c03735927f1e533ad285568"
   }
  }
 },
 "nbformat": 4,
 "nbformat_minor": 2
}
